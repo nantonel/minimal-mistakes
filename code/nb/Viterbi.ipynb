{
 "cells": [
  {
   "cell_type": "markdown",
   "metadata": {},
   "source": [
    "\n",
    "Given:\n",
    "\n",
    "* a Markov model with parameters $\\lambda = \\{ \\mathbf{a},\\mathbf{A},\\mathcal{B} \\}$\n",
    "* an observation $\\mathbf{o} \\in \\mathcal{R}^T$ where $T$ are the time steps \n",
    "\n",
    "Find the most probable state sequence: $\\mathbf{s}^\\star$ \n",
    "     \n",
    "Note: see ForwardBackward for detailed definitions of the variables above.\n",
    "\n",
    "Again as a baseline we check a brute force solution, that is compute $L_{\\lambda}( \\mathbf{o} | \\mathbf{s} )$ for all $\\mathbf{s} \\in \\mathcal{S}$:\n",
    "\n",
    "$l = \\arg \\max \\{ L_\\lambda (\\mathbf{o} | \\mathbf{s}) : \\mathbf{s} \\in \\mathcal{S} \\}$\n",
    "\n",
    "where $\\mathbf{v} = \\mathbf{s}_l$ will be the most probable state sequence.\n",
    "\n",
    "Using Bayes:\n",
    "\n",
    "$L_\\lambda (\\mathbf{o} | \\mathbf{s}) = L(\\mathbf{s} | \\mathbf{o} ) P(\\mathbf{s}) / P( \\mathbf{o} )$\n",
    "\n",
    "we drop the denominator $P(\\mathbf{o})$ and we know that:\n",
    "\n",
    "  * $L_{\\lambda}(\\mathbf{s} | \\mathbf{o} ) = \\prod_{t = 1}^T b_{s_t} (\\mathbf{o})$\n",
    "  * $P_{\\lambda}(\\mathbf{s}) = a_{s_0} \\prod_{t = 2}^T a_{s_{t-1},s_t}$"
   ]
  },
  {
   "cell_type": "code",
   "execution_count": 1,
   "metadata": {},
   "outputs": [
    {
     "name": "stderr",
     "output_type": "stream",
     "text": [
      "┌ Info: Recompiling stale cache file /Users/nantonel/.julia/compiled/v1.2/Distributions/xILW0.ji for Distributions [31c24e10-a181-5473-b8eb-7969acd0382f]\n",
      "└ @ Base loading.jl:1240\n"
     ]
    },
    {
     "data": {
      "text/plain": [
       "5-element Array{Int64,1}:\n",
       " 1\n",
       " 1\n",
       " 2\n",
       " 1\n",
       " 1"
      ]
     },
     "execution_count": 1,
     "metadata": {},
     "output_type": "execute_result"
    }
   ],
   "source": [
    "using Distributions, LinearAlgebra, Combinatorics\n",
    "\n",
    "# define Markov model's parameters (λ)\n",
    "S = 2                                                  # number of states\n",
    "a = [0.5; 0.5]                                         # initial state probability  \n",
    "A = [0.7 0.3; 0.3 0.7]                                 # transmission Matrix  [a_11 a21; a12 a_22]\n",
    "# Must be row stotastic: [sum(A[i,:]) for i in 1:size(A,1)] .== 1\n",
    "\n",
    "B = [Categorical([0.9, 0.1]), Categorical([0.2, 0.8])] # observation distribution [b_1; b_2]\n",
    "# Tells what is the probability of a state given an observation  P(O_t|S_i)\n",
    "# e.g. `pdf(D[1],2) == 0.1` gives the probability of being in state 1 if we observed O_t = 2 \n",
    "\n",
    "T = 5                     # time window length\n",
    "o = [1;1;2;1;1]           # observations\n",
    "\n",
    "s_all = collect(multiset_permutations([1;2],[5;5],5))\n",
    "\n",
    "# this has all possible state sequences e.g. [1;1;1;1;1], [1;1;1;1;2] ...\n",
    "# these are S^T permutations\n",
    "\n",
    "# Probability of sequence of states\n",
    "Pλ_s = zeros(length(s_all)) \n",
    "for z = 1:length(s_all)\n",
    "    Pλ_s[z] = a[1] # initial distribution, since they are equal so we don't need to do this twice\n",
    "    for t = 2:T\n",
    "        Pλ_s[z] *= A[ s_all[z][t-1], s_all[z][t] ]\n",
    "    end\n",
    "end\n",
    "@assert sum(Pλ_s) ≈ 1 # check it's a probability \n",
    "\n",
    "# Likelihood of O given a sequence of states\n",
    "Lλ_o_s = ones(length(s_all)) \n",
    "for z = 1:length(s_all)\n",
    "    for t = 1:T\n",
    "        Lλ_o_s[z] *= pdf(B[ s_all[z][t] ], o[t])\n",
    "    end\n",
    "end\n",
    "sum(Lλ_o_s)\n",
    "\n",
    "sa = s_all[argmax(Pλ_s .* Lλ_o_s)]\n"
   ]
  },
  {
   "cell_type": "markdown",
   "metadata": {},
   "source": [
    "Obviously the brute force approach can easily become intractable as $S^T$. \n",
    "\n",
    "The forward algorithm can be used for this task: since   \n",
    "\n",
    "$\\alpha_j(t) = L_{\\lambda} (o_1, \\dots, o_t, s_t = j)$\n",
    "\n",
    "is the likelihood being at a particular state given a set of observations \n",
    "we can infer the most probable state at a given time by\n",
    "\n",
    "$ s^*(t) = \\arg \\max\\{ \\alpha_1 (t), \\dots, \\alpha_S(t) \\}$\n"
   ]
  },
  {
   "cell_type": "code",
   "execution_count": 2,
   "metadata": {},
   "outputs": [],
   "source": [
    "function Baum_forward(A,a,B,o)\n",
    "    T, S = length(o), size(A,1)\n",
    "    alpha = zeros(T,S)\n",
    "    for j = 1:S\n",
    "        alpha[1,j] += a[j]*pdf( B[j], o[1] )\n",
    "    end\n",
    "    \n",
    "    for t = 2:T\n",
    "        for j = 1:S\n",
    "            for i = 1:S\n",
    "                alpha[t,j] += alpha[t-1,i]*A[i,j]*pdf( B[j], o[t] )    \n",
    "            end\n",
    "        end\n",
    "        # println(normalize(alpha[t,:],1)) # to check we get same results as wiki page\n",
    "    end\n",
    "    return alpha\n",
    "end\n",
    "\n",
    "alpha = Baum_forward(A,a,B,o)\n",
    "sa2 = [argmax(alpha[t,:]) for t = 1:T]\n",
    "@assert sa2 == sa\n"
   ]
  },
  {
   "cell_type": "markdown",
   "metadata": {},
   "source": [
    "Viterbi computes the state sequence with two main differences with respect to the forward algorithm:\n",
    "\n",
    "1. instead of the sum takes computes the _maximum_ of the previous paths\n",
    "    * Forward algorithm: $\\alpha_j(t) =  L_{\\lambda} (o_1, \\dots, o_t, s_t = j) = \\sum_{i=1}^S \\alpha_{t-1}(i) a_{ij} b_j(o_t)$\n",
    "    * Viterbi algorithm $v_t (j) = \\max_{j=1 \\dots S} \\{ v_{t-1}(i) \\} a_{ij} b_j(o_t)$\n",
    "    \n",
    "2. keeps track of where these maxima occur, and backtrack the path\n"
   ]
  },
  {
   "cell_type": "code",
   "execution_count": 3,
   "metadata": {},
   "outputs": [
    {
     "data": {
      "text/plain": [
       "5×2 Array{Float64,2}:\n",
       " 0.45       0.1       \n",
       " 0.2835     0.027     \n",
       " 0.019845   0.06804   \n",
       " 0.0183708  0.0095256 \n",
       " 0.0115736  0.00133358"
      ]
     },
     "execution_count": 3,
     "metadata": {},
     "output_type": "execute_result"
    }
   ],
   "source": [
    "function viterbi(A,a,B,o)\n",
    "    \n",
    "    T, S = length(o), size(A,1)\n",
    "    v = zeros(T,S)            # viterbi \"probabilities\"\n",
    "    argmax_v = zeros(Int,T,S) # backtrack indices\n",
    "  \n",
    "    for s = 1:S\n",
    "        v[1,s] = a[s]*pdf( B[s], o[1] )\n",
    "    end\n",
    " \n",
    "    # v[1,:] .= normalize(v[1,:],1)\n",
    "    for t = 2:T       \n",
    "        for s = 1:S\n",
    "\n",
    "            argmax_vi = -1 \n",
    "            vmax      = -Inf\n",
    "            for ss = 1:S\n",
    "                v_t = v[t-1,ss] * A[ss,s]  \n",
    "                if v_t > vmax\n",
    "                    argmax_vi = ss \n",
    "                    vmax = v_t\n",
    "                end\n",
    "            end\n",
    "      \n",
    "            v[t,s] = vmax * pdf( B[s], o[t] )\n",
    "            argmax_v[t,s] = argmax_vi\n",
    "        \n",
    "        end\n",
    "        #v[t,:] .= normalize(v[t,:],1)\n",
    "    end\n",
    "\n",
    "    bp = zeros(Int,T)\n",
    "    bp[T] = argmax(v[end,:])\n",
    "    for t in T-1:-1:1\n",
    "        bp[t] = argmax_v[t+1,bp[t+1]]\n",
    "    end\n",
    "    return bp,v,argmax_v\n",
    "end\n",
    "\n",
    "bp,v,argmax_v = viterbi(A,a,B,o)\n",
    "@assert sa == bp\n",
    "v"
   ]
  },
  {
   "cell_type": "code",
   "execution_count": 4,
   "metadata": {},
   "outputs": [
    {
     "data": {
      "text/plain": [
       "5×2 Array{Float64,2}:\n",
       " 0.45       0.1       \n",
       " 0.3105     0.041     \n",
       " 0.022965   0.09748   \n",
       " 0.0407876  0.0150251 \n",
       " 0.0297529  0.00455077"
      ]
     },
     "execution_count": 4,
     "metadata": {},
     "output_type": "execute_result"
    }
   ],
   "source": [
    "alpha"
   ]
  }
 ],
 "metadata": {
  "kernelspec": {
   "display_name": "Julia 1.1.1",
   "language": "julia",
   "name": "julia-1.1"
  },
  "language_info": {
   "file_extension": ".jl",
   "mimetype": "application/julia",
   "name": "julia",
   "version": "1.2.0"
  }
 },
 "nbformat": 4,
 "nbformat_minor": 2
}
