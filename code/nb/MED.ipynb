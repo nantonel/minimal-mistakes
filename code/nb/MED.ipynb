{
 "cells": [
  {
   "cell_type": "code",
   "execution_count": 1,
   "metadata": {},
   "outputs": [
    {
     "data": {
      "text/plain": [
       "481"
      ]
     },
     "execution_count": 1,
     "metadata": {},
     "output_type": "execute_result"
    }
   ],
   "source": [
    "# minimum edit distance the recursive (bad) way\n",
    "calls = 0\n",
    "function MED(s, t)\n",
    "    global calls += 1\n",
    "    cost = 0\n",
    "    if s == \"\"\n",
    "        return length(t) \n",
    "        # source is empty, so we need `t` insertion\n",
    "    elseif t == \"\"\n",
    "        return length(s) \n",
    "        # target is empty, so we need `s` deletion\n",
    "    elseif t[end] == s[end]\n",
    "        cost = 0\n",
    "        # last character of source & target is equal\n",
    "        # so we don't have to do anything\n",
    "    else\n",
    "        cost = 1\n",
    "    end\n",
    "#     println(\"$s $t\") #uncomment to check how many times MED is called!\n",
    "    total_cost = min(\n",
    "        MED(t[1:end-1],s[1:end-1])+cost,\n",
    "        MED(t[1:end-1],s)+1, #del\n",
    "        MED(t,s[1:end-1])+1  #in\n",
    "    )\n",
    "    return total_cost\n",
    "end\n",
    "    \n",
    "s,t = \"Ciao\", \"Caio\"\n",
    "\n",
    "MED(s, t)\n",
    "calls"
   ]
  },
  {
   "cell_type": "code",
   "execution_count": 2,
   "metadata": {},
   "outputs": [
    {
     "data": {
      "text/plain": [
       "25"
      ]
     },
     "execution_count": 2,
     "metadata": {},
     "output_type": "execute_result"
    }
   ],
   "source": [
    "# minimum edit distance the recursive (better) way with memory\n",
    "calls = 0\n",
    "function MED2(s, t)\n",
    "    D = Dict()\n",
    "    return MED!(D,s,t), D\n",
    "end\n",
    "function MED!(D, s, t)\n",
    "    global calls += 1\n",
    "    if s == \"\"\n",
    "        return length(t) \n",
    "        # source is empty, so we need `t` insertion\n",
    "    elseif t == \"\"\n",
    "        return length(s) \n",
    "        # target is empty, so we need `s` deletion\n",
    "    end\n",
    "    \n",
    "    cost = (t[end] == s[end]) ? 0 : 1\n",
    "\n",
    "    # filter repetitive calls\n",
    "    k1 = (s[1:end-1],t[1:end-1])\n",
    "    if !( k1 in keys(D))\n",
    "        D[k1] = MED!(D,k1...)\n",
    "    end\n",
    "    k2 = (s,t[1:end-1])\n",
    "    if !( k2 in keys(D))\n",
    "        D[k2] = MED!(D,k2...)\n",
    "    end\n",
    "    k3 = (s[1:end-1],t)\n",
    "    if !( k3 in keys(D))\n",
    "        D[k3] = MED!(D,k3...)\n",
    "    end\n",
    "    \n",
    "    total_cost = min(\n",
    "        D[k1]+cost,\n",
    "        D[k2]+1, #del\n",
    "        D[k3]+1  #in\n",
    "    )\n",
    "    return total_cost\n",
    "end\n",
    "    \n",
    "ed, D = MED2(\"Ciao\", \"Caio\")\n",
    "calls"
   ]
  },
  {
   "cell_type": "code",
   "execution_count": 3,
   "metadata": {},
   "outputs": [
    {
     "data": {
      "text/plain": [
       "5×9 Array{Int64,2}:\n",
       " 0  1  2  3  4  5  6  7  8\n",
       " 1  0  1  2  3  4  5  6  7\n",
       " 2  1  0  1  2  3  4  5  6\n",
       " 3  2  1  1  2  3  4  4  5\n",
       " 4  3  2  2  2  3  4  5  4"
      ]
     },
     "execution_count": 3,
     "metadata": {},
     "output_type": "execute_result"
    }
   ],
   "source": [
    "function iMED(s,t)\n",
    "    n,m = length(s),length(t)\n",
    "    D = zeros(Int,n+1,m+1)\n",
    "    \n",
    "    D[:,1] = 0:n # this is the cost we would have for insertion only\n",
    "    D[1,:] = 0:m # this is the cost we would have for deletion only\n",
    "    \n",
    "    for i = 2:n+1, j = 2:m+1\n",
    "       \n",
    "        # check substition is needed\n",
    "        cost = s[i-1] == t[j-1] ? 0 : 1\n",
    "       \n",
    "        D[i,j] = min(\n",
    "                D[i-1,j] + 1,        # del\n",
    "                D[i,j-1] + 1,        # ins\n",
    "                D[i-1,j-1] + cost,   # subs / ok\n",
    "                )\n",
    "    end\n",
    "    \n",
    "    return D\n",
    "end\n",
    "\n",
    "s,t = \"ciao\", \"ciriciao\"\n",
    "\n",
    "D = iMED(s,t)"
   ]
  }
 ],
 "metadata": {
  "kernelspec": {
   "display_name": "Julia 1.1.1",
   "language": "julia",
   "name": "julia-1.1"
  },
  "language_info": {
   "file_extension": ".jl",
   "mimetype": "application/julia",
   "name": "julia",
   "version": "1.1.1"
  }
 },
 "nbformat": 4,
 "nbformat_minor": 2
}
